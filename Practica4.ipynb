{
  "cells": [
    {
      "cell_type": "markdown",
      "metadata": {
        "id": "DoGKhX3F6laa"
      },
      "source": [
        "# P2\n",
        "En ppio voy a tomar el calculo de error de la practica anterior usando MRSE"
      ]
    },
    {
      "cell_type": "code",
      "execution_count": 1,
      "metadata": {
        "id": "oqxJeVVn6lad"
      },
      "outputs": [],
      "source": [
        "# Función para calcular RMSE\n",
        "import numpy as np\n",
        "\n",
        "def calculate_rmse(reconstructed_image, original_image):\n",
        "    mean_original = np.mean(original_image)\n",
        "    mean_reconstructed = np.mean(reconstructed_image)\n",
        "    image_reconstructed_normalized = reconstructed_image * (mean_original / mean_reconstructed)\n",
        "    error = image_reconstructed_normalized - original_image\n",
        "    rmse = np.sqrt(np.mean(error**2))\n",
        "    return rmse"
      ]
    },
    {
      "cell_type": "markdown",
      "metadata": {
        "id": "Mq4HrPhH6laf"
      },
      "source": [
        "## Acá defino el ART"
      ]
    },
    {
      "cell_type": "code",
      "execution_count": 2,
      "metadata": {
        "id": "epYSLaE76lag"
      },
      "outputs": [],
      "source": [
        "import numpy as np\n",
        "import matplotlib.pyplot as plt\n",
        "\n",
        "\n",
        "def ART(A, AT, b, x, mu=1e0, niter=1e2, bpos=True):\n",
        "\n",
        "    ATA = AT(A(np.ones_like(x)))\n",
        "\n",
        "    for i in range(int(niter)):\n",
        "\n",
        "        x = x + np.divide(mu * AT(b - A(x)), ATA)\n",
        "\n",
        "        if bpos:\n",
        "            x[x < 0] = 0\n",
        "\n",
        "        # plt.imshow(x, cmap='gray')\n",
        "        # plt.title(\"%d / %d\" % (i + 1, niter))\n",
        "        # plt.pause(1)\n",
        "        # plt.close()\n",
        "\n",
        "    return x\n"
      ]
    },
    {
      "cell_type": "markdown",
      "metadata": {
        "id": "WI9TKgH36vIU"
      },
      "source": [
        "## Lo que sigue basicamente es la demo sin moficar"
      ]
    },
    {
      "cell_type": "code",
      "execution_count": null,
      "metadata": {
        "id": "--BjHTRg6lag"
      },
      "outputs": [],
      "source": [
        "#!/usr/bin/env python3\n",
        "# -*- coding: utf-8 -*-\n",
        "\"\"\"\n",
        "Created on Mon Mar 14 09:06:26 2022\n",
        "\n",
        "@author: matog\n",
        "\"\"\"\n",
        "## REFERENCE\n",
        "# https://en.wikipedia.org/wiki/Algebraic_reconstruction_technique\n",
        "\n",
        "## ART Equation\n",
        "# x^(k+1) = x^k + lambda * AT(b - A(x))/ATA\n",
        "\n",
        "import numpy as np\n",
        "import matplotlib.pyplot as plt\n",
        "from skimage.transform import radon, iradon\n",
        "from scipy.io import loadmat\n",
        "from scipy.stats import poisson\n",
        "#from skimage.measure import compare_mse as mse\n",
        "#from skimage.measure import compare_psnr as psnr\n",
        "#from skimage.measure import compare_ssim as ssim\n",
        "from skimage.metrics import mean_squared_error as mse\n",
        "from skimage.metrics import peak_signal_noise_ratio as psnr\n",
        "from skimage.metrics import structural_similarity as ssim\n",
        "\n",
        "## SYSTEM SETTING\n",
        "N = 512\n",
        "ANG = 180\n",
        "VIEW = 360\n",
        "THETA = np.linspace(0, ANG, VIEW + 1)\n",
        "THETA = THETA[:-1]\n",
        "\n",
        "A = lambda x: radon(x, THETA, circle=False).astype(np.float32)\n",
        "AT = lambda y: iradon(y, THETA, circle=False, filter_name=None, output_size=N).astype(np.float32)/(np.pi/(2*len(THETA)))\n",
        "AINV = lambda y: iradon(y, THETA, circle=False, filter_name='ramp',output_size=N).astype(np.float32)\n",
        "\n",
        "## DATA GENERATION\n",
        "x = loadmat('XCAT512.mat')['XCAT512']\n",
        "p = A(x)\n",
        "x_full = AINV(p)\n",
        "\n",
        "## LOW-DOSE SINOGRAM GENERATION\n",
        "i0 = 1e2\n",
        "pn = np.exp(-p)\n",
        "pn = i0*pn\n",
        "pn = poisson.rvs(pn)\n",
        "pn[pn <1] = 1\n",
        "pn = -np.log(pn/i0)\n",
        "pn[pn < 0] = 0\n",
        "\n",
        "y = pn\n",
        "\n",
        "## Algebraic Reconstruction Technique (ART) INITIALIZATION\n",
        "x_low = AINV(y)\n",
        "x0 = np.zeros_like(x)\n",
        "mu = 1e0\n",
        "niter = 10\n",
        "bpos = True\n",
        "\n",
        "x_art = ART(A, AT, y, x0, mu, niter, bpos)\n",
        "\n",
        "\n",
        "## DISPLAY\n",
        "wndImg = [0, 0.03]\n",
        "wndPrj = [0, 6]\n",
        "\n",
        "plt.subplot(241)\n",
        "plt.imshow(x, cmap='gray', vmin=wndImg[0], vmax=wndImg[1])\n",
        "plt.axis('off')\n",
        "plt.axis('image')\n",
        "plt.title('Ground truth')\n",
        "\n",
        "plt.subplot(242)\n",
        "plt.imshow(x_full, cmap='gray', vmin=wndImg[0], vmax=wndImg[1])\n",
        "plt.axis('off')\n",
        "plt.axis('image')\n",
        "plt.title('full-dose')\n",
        "\n",
        "mse_x_low=mse(x,x_low)\n",
        "psnr_x_low=psnr(x,x_low)\n",
        "ssim_x_low=ssim(x,x_low)\n",
        "\n",
        "plt.subplot(243)\n",
        "plt.imshow(x_low, cmap='gray', vmin=wndImg[0], vmax=wndImg[1])\n",
        "plt.axis('off')\n",
        "plt.axis('image')\n",
        "plt.title('low-dose\\nMSE: %.4f\\nPSNR: %.4f\\nSSIM: %.4f' % (mse_x_low, psnr_x_low, ssim_x_low))\n",
        "\n",
        "mse_x_art=mse(x,x_art)\n",
        "psnr_x_art=psnr(x,x_art)\n",
        "ssim_x_art=ssim(x,x_art)\n",
        "\n",
        "plt.subplot(244)\n",
        "plt.imshow(x_art, cmap='gray', vmin=wndImg[0], vmax=wndImg[1])\n",
        "plt.axis('off')\n",
        "plt.axis('image')\n",
        "plt.title('ART\\nMSE: %.4f\\nPSNR: %.4f\\nSSIM: %.4f' % (mse_x_art, psnr_x_art, ssim_x_art))\n",
        "\n",
        "plt.subplot(246)\n",
        "plt.imshow(p, cmap='gray', vmin=wndPrj[0], vmax=wndPrj[1])\n",
        "plt.title('full-dose\\n(VIEW: %d)' % VIEW)\n",
        "plt.xlabel('View')\n",
        "plt.ylabel('Detector')\n",
        "\n",
        "plt.subplot(247)\n",
        "plt.imshow(y, cmap='gray', vmin=wndPrj[0], vmax=wndPrj[1])\n",
        "plt.title('low-dose\\n(VIEW: %d)' % VIEW)\n",
        "plt.xlabel('View')\n",
        "plt.ylabel('Detector')\n",
        "\n",
        "plt.subplot(248)\n",
        "plt.imshow(y - p, cmap='gray')\n",
        "plt.title('full-dose - low-dose\\n(Poisson noise)')\n",
        "plt.xlabel('View')\n",
        "plt.ylabel('Detector')\n",
        "\n",
        "plt.show()\n"
      ]
    },
    {
      "cell_type": "markdown",
      "metadata": {
        "id": "8HrPLkB67D5C"
      },
      "source": [
        "## Ahora modificaciones sorbe la demo\n",
        "\n",
        "Basicamente voy a sacar casi todos los plot y dejo nomas el final de la reconstrucción. Por otro lado voy a agregar el calculo del error con la funcion de arriba. Y voy a ahcer esto para varios valores de i0"
      ]
    },
    {
      "cell_type": "code",
      "execution_count": null,
      "metadata": {
        "id": "PnoyOb_47FV-"
      },
      "outputs": [],
      "source": [
        "#!/usr/bin/env python3\n",
        "# -*- coding: utf-8 -*-\n",
        "\"\"\"\n",
        "Created on Mon Mar 14 09:06:26 2022\n",
        "\n",
        "@author: matog\n",
        "\"\"\"\n",
        "## REFERENCE\n",
        "# https://en.wikipedia.org/wiki/Algebraic_reconstruction_technique\n",
        "\n",
        "## ART Equation\n",
        "# x^(k+1) = x^k + lambda * AT(b - A(x))/ATA\n",
        "\n",
        "import numpy as np\n",
        "import matplotlib.pyplot as plt\n",
        "from skimage.transform import radon, iradon\n",
        "from scipy.io import loadmat\n",
        "from scipy.stats import poisson\n",
        "#from skimage.measure import compare_mse as mse\n",
        "#from skimage.measure import compare_psnr as psnr\n",
        "#from skimage.measure import compare_ssim as ssim\n",
        "from skimage.metrics import mean_squared_error as mse\n",
        "from skimage.metrics import peak_signal_noise_ratio as psnr\n",
        "from skimage.metrics import structural_similarity as ssim\n",
        "import time\n",
        "\n",
        "\n",
        "def demo(N=512, ANG=180, VIEW=360, i0=1e2, niter = 1e2):\n",
        "  ## SYSTEM SETTING\n",
        "  THETA = np.linspace(0, ANG, VIEW + 1)\n",
        "  THETA = THETA[:-1]\n",
        "  \n",
        "  tiempo_bp = 0 #Guarda el tiempo que tarda retroproyectar\n",
        "  tiempo_fp = 0 #Guarda el tiempo que tarda art\n",
        "\n",
        "  A = lambda x: radon(x, THETA, circle=False).astype(np.float32)\n",
        "  AT = lambda y: iradon(y, THETA, circle=False, filter_name=None, output_size=N).astype(np.float32)/(np.pi/(2*len(THETA)))\n",
        "  AINV = lambda y: iradon(y, THETA, circle=False, filter_name='ramp',output_size=N).astype(np.float32)\n",
        "\n",
        "  ## DATA GENERATION\n",
        "  x = loadmat('XCAT512.mat')['XCAT512']\n",
        "\n",
        "  from skimage.transform import resize\n",
        "  x = resize(x, (N, N), order=3, preserve_range=True) # Use bicubic interpolation (order=3)\n",
        "\n",
        "\n",
        "  p = A(x)\n",
        "  x_full = AINV(p)\n",
        "\n",
        "\n",
        "  ## LOW-DOSE SINOGRAM GENERATION\n",
        "  pn = np.exp(-p)\n",
        "  pn = i0*pn\n",
        "  pn = poisson.rvs(pn)\n",
        "  pn[pn <1] = 1\n",
        "  pn = -np.log(pn/i0)\n",
        "  pn[pn < 0] = 0\n",
        "\n",
        "  y = pn\n",
        "\n",
        "  ## Algebraic Reconstruction Technique (ART) INITIALIZATION\n",
        "  \n",
        "  #Aca tomamos tiempo para retroproyectar\n",
        "  start = time.time()\n",
        "  x_low = AINV(y)\n",
        "  end = time.time()\n",
        "  tiempo_bp = end - start\n",
        "  \n",
        "  x0 = np.zeros_like(x)\n",
        "  mu = 1e0\n",
        "  bpos = True\n",
        "\n",
        "  #Tomo el tiempo para ART\n",
        "  start = time.time()\n",
        "  x_art = ART(A, AT, y, x0, mu, niter, bpos)\n",
        "  end = time.time()\n",
        "  tiempo_fp = end - start\n",
        "\n",
        "  ## DISPLAY\n",
        "  wndImg = [0, 0.03]\n",
        "  wndPrj = [0, 6]\n",
        "\n",
        "\n",
        "  #ssim_x_low=ssim(x,x_low)\n",
        "\n",
        "  plt.subplot(241)\n",
        "  plt.imshow(x, cmap='gray', vmin=wndImg[0], vmax=wndImg[1])\n",
        "  plt.axis('off')\n",
        "  plt.axis('image')\n",
        "  plt.title('Ground truth')\n",
        "\n",
        "  plt.subplot(242)\n",
        "  plt.imshow(x_full, cmap='gray', vmin=wndImg[0], vmax=wndImg[1])\n",
        "  plt.axis('off')\n",
        "  plt.axis('image')\n",
        "  plt.title('full-dose')\n",
        "\n",
        "  plt.subplot(243)\n",
        "  plt.imshow(x_low, cmap='gray', vmin=wndImg[0], vmax=wndImg[1])\n",
        "  plt.axis('off')\n",
        "  plt.axis('image')\n",
        "  plt.title('low-dose')\n",
        "\n",
        "\n",
        "  #ssim_x_art=ssim(x,x_art)\n",
        "\n",
        "  plt.subplot(244)\n",
        "  plt.imshow(x_art, cmap='gray', vmin=wndImg[0], vmax=wndImg[1])\n",
        "  plt.axis('off')\n",
        "  plt.axis('image')\n",
        "  plt.title('ART')\n",
        "\n",
        "  #Meto un suptitle con los parametros\n",
        "  plt.suptitle(f'Angulos = {ANG}, Sensores = {N}, Intensidad = {i0}')\n",
        "  plt.show()\n",
        "\n",
        "  return x_art, x_low, tiempo_bp, tiempo_fp\n",
        "\n"
      ]
    },
    {
      "cell_type": "markdown",
      "metadata": {
        "id": "k7aWkOIj8Ys8"
      },
      "source": [
        "## Calculo del error en función del nro de angulos"
      ]
    },
    {
      "cell_type": "code",
      "execution_count": null,
      "metadata": {
        "id": "qgp0uj4O8eCE"
      },
      "outputs": [],
      "source": [
        "#Config default, Sensores 512, i0 1e2 de 0 a 360°\n",
        "x = loadmat('XCAT512.mat')['XCAT512']\n",
        "angulos = np.linspace(0,400,10)\n",
        "\n",
        "errores_ang = []\n",
        "i = 0\n",
        "for angulo in angulos:\n",
        "  x_art, x_low = demo(ANG=angulo)\n",
        "  error = (calculate_rmse(x_art, x), calculate_rmse(x_art, x_low))\n",
        "  errores_ang.append(error)\n",
        "  print(f'Angulo {angulo}. Error art-file = {error[0]}. Error art-inversa = {error[1]}')\n",
        "\n",
        "  i+=1\n",
        "\n",
        "print(errores_ang)\n"
      ]
    },
    {
      "cell_type": "markdown",
      "metadata": {
        "id": "Z9dcdX2w9gwj"
      },
      "source": [
        "## Aca lo hago para el numero de sensores"
      ]
    },
    {
      "cell_type": "code",
      "execution_count": null,
      "metadata": {
        "colab": {
          "base_uri": "https://localhost:8080/",
          "height": 781
        },
        "id": "WE1vHcD29SDG",
        "outputId": "39b9f7ca-f496-46ae-a020-45f61ebbe790"
      },
      "outputs": [],
      "source": [
        "from skimage.transform import resize\n",
        "\n",
        "sensores = np.linspace(256,512,5)\n",
        "x = loadmat('XCAT512.mat')['XCAT512']\n",
        "\n",
        "\n",
        "errores_sensores = []\n",
        "\n",
        "for sensor in sensores:\n",
        "  img = resize(x, (int(sensor), int(sensor)), order=3, preserve_range=True)\n",
        "  x_art, x_low = demo(N=int(sensor), niter=20)\n",
        "  error = (calculate_rmse(x_art, img), calculate_rmse(x_low, img))\n",
        "  errores_sensores.append(error)\n",
        "\n",
        "print(errores_sensores)"
      ]
    },
    {
      "cell_type": "code",
      "execution_count": 11,
      "metadata": {},
      "outputs": [],
      "source": [
        "for i, error in enumerate(errores_sensores):\n",
        "    print(f'{sensores[i]}\\t{error[0]}\\t{error[1]}')"
      ]
    },
    {
      "cell_type": "markdown",
      "metadata": {
        "id": "IwP1siLk96Or"
      },
      "source": [
        "## Ahora lo mismo pero para el i0"
      ]
    },
    {
      "cell_type": "code",
      "execution_count": null,
      "metadata": {
        "id": "FJZvhMDT976v"
      },
      "outputs": [],
      "source": [
        "intensidades = np.linspace(1e0,1e3,5)\n",
        "x = loadmat('XCAT512.mat')['XCAT512']\n",
        "\n",
        "\n",
        "errores_intesidades = []\n",
        "\n",
        "for i0 in intensidades:\n",
        "  x_art, x_low = demo(i0=i0)\n",
        "  error = (calculate_rmse(x_art, x), calculate_rmse(x_low, x))\n",
        "  errores_intesidades.append(error)\n",
        "\n",
        "print(errores_intesidades)"
      ]
    },
    {
      "cell_type": "markdown",
      "metadata": {},
      "source": [
        "# Generalización de TODO:"
      ]
    },
    {
      "cell_type": "code",
      "execution_count": null,
      "metadata": {},
      "outputs": [],
      "source": [
        "import csv\n",
        "import numpy as np\n",
        "from scipy.io import loadmat\n",
        "from skimage.transform import resize\n",
        "\n",
        "# Cargar datos\n",
        "x = loadmat('XCAT512.mat')['XCAT512']\n",
        "angulos = np.linspace(0, 400, 10)\n",
        "sensores = np.linspace(256, 512, 5)\n",
        "intensidades = np.linspace(1e0, 1e3, 5)\n",
        "\n",
        "\n",
        "def errores_angulos(csvfile, x=x, angulos=angulos):\n",
        "    writer = csv.writer(csvfile)\n",
        "    writer.writerow(['Angulo', 'Error art-orig', 'Error art-low', 'Tiempo BP', 'Tiempo ART'])  # Encabezado\n",
        "    \n",
        "    for angulo in angulos:\n",
        "        x_art, x_low, tiempo_bp, tiempo_art = demo(ANG=angulo)\n",
        "        error = (calculate_rmse(x_art, x), calculate_rmse(x_art, x_low))\n",
        "        print(f'Angulo {angulo}. Error art-orig = {error[0]}. Error art-low = {error[1]}')\n",
        "        writer.writerow([angulo, error[0], error[1], tiempo_bp, tiempo_art])\n",
        "\n",
        "\n",
        "def errores_sensores(csvfile, x=x, sensores=sensores):\n",
        "    writer = csv.writer(csvfile)\n",
        "    writer.writerow(['Sensores', 'Error art-orig', 'Error art-low', 'Tiempo BP', 'Tiempo ART'])\n",
        "    \n",
        "    for sensor in sensores:\n",
        "        img = resize(x, (int(sensor), int(sensor)), order=3, preserve_range=True)\n",
        "        x_art, x_low, t_bp, t_art = demo(N=int(sensor), niter=20)\n",
        "        error = (calculate_rmse(x_art, img), calculate_rmse(x_low, img))\n",
        "        writer.writerow([sensor, error[0], error[1], t_bp, t_art])\n",
        "\n",
        "\n",
        "def errores_intensidades(csvfile, x=x, intensidades=intensidades):\n",
        "    writer = csv.writer(csvfile)\n",
        "    writer.writerow(['Intensidad', 'Error art-orig', 'Error art-low', 'Tiempo BP', 'Tiempo ART'])\n",
        "    \n",
        "    for i0 in intensidades:\n",
        "        x_art, x_low, t_bp, t_art = demo(i0=i0)\n",
        "        error = (calculate_rmse(x_art, x), calculate_rmse(x_low, x))\n",
        "        writer.writerow([i0, error[0], error[1], t_bp, t_art])\n",
        "\n",
        "\n",
        "# Guardar archivos en CSV\n",
        "with open('errores_angulos.csv', 'w', newline='') as f:\n",
        "    #Vamos agregar una linea con param iniciales\n",
        "    \n",
        "    errores_angulos(f)\n",
        "\n",
        "with open('errores_sensores.csv', 'w', newline='') as f:\n",
        "    errores_sensores(f)\n",
        "\n",
        "with open('errores_intensidades.csv', 'w', newline='') as f:\n",
        "    errores_intensidades(f)\n"
      ]
    },
    {
      "cell_type": "markdown",
      "metadata": {},
      "source": []
    }
  ],
  "metadata": {
    "colab": {
      "collapsed_sections": [
        "WI9TKgH36vIU"
      ],
      "provenance": []
    },
    "kernelspec": {
      "display_name": "Python 3",
      "language": "python",
      "name": "python3"
    },
    "language_info": {
      "codemirror_mode": {
        "name": "ipython",
        "version": 3
      },
      "file_extension": ".py",
      "mimetype": "text/x-python",
      "name": "python",
      "nbconvert_exporter": "python",
      "pygments_lexer": "ipython3",
      "version": "3.12.9"
    }
  },
  "nbformat": 4,
  "nbformat_minor": 0
}
